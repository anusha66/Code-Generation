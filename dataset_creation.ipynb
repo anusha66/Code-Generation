{
 "cells": [
  {
   "cell_type": "code",
   "execution_count": 9,
   "metadata": {},
   "outputs": [],
   "source": [
    "import pickle\n",
    "import random"
   ]
  },
  {
   "cell_type": "code",
   "execution_count": 26,
   "metadata": {},
   "outputs": [],
   "source": [
    "f = open('pickles/pandas_comments_filtered_data.pkl','rb')\n",
    "data = pickle.load(f)"
   ]
  },
  {
   "cell_type": "code",
   "execution_count": 27,
   "metadata": {},
   "outputs": [],
   "source": [
    "random.shuffle(data)"
   ]
  },
  {
   "cell_type": "code",
   "execution_count": 41,
   "metadata": {},
   "outputs": [],
   "source": [
    "nl = []\n",
    "code = []\n",
    "\n",
    "for i in range(len(data)):\n",
    "    \n",
    "    temp1 = ' '.join(data[i][1])\n",
    "    nl.append(temp1.replace('\\n','$'))\n",
    "    \n",
    "    temp2 = ' '.join(data[i][0])\n",
    "    code.append(temp2.replace('\\n','$'))\n",
    "    "
   ]
  },
  {
   "cell_type": "code",
   "execution_count": 44,
   "metadata": {},
   "outputs": [],
   "source": [
    "with open('nl_train.txt', 'w') as f:\n",
    "    for item in nl[0:7920]:\n",
    "        f.write(\"%s\\n\" % item)\n",
    "        \n",
    "with open('code_train.txt', 'w') as f:\n",
    "    for item in code[0:7920]:\n",
    "        f.write(\"%s\\n\" % item)"
   ]
  },
  {
   "cell_type": "code",
   "execution_count": 45,
   "metadata": {},
   "outputs": [],
   "source": [
    "with open('nl_dev.txt', 'w') as f:\n",
    "    for item in nl[7920:8910]:\n",
    "        f.write(\"%s\\n\" % item)\n",
    "        \n",
    "with open('code_dev.txt', 'w') as f:\n",
    "    for item in code[7920:8910]:\n",
    "        f.write(\"%s\\n\" % item)"
   ]
  },
  {
   "cell_type": "code",
   "execution_count": 46,
   "metadata": {},
   "outputs": [],
   "source": [
    "with open('nl_test.txt', 'w') as f:\n",
    "    for item in nl[8910:]:\n",
    "        f.write(\"%s\\n\" % item)\n",
    "        \n",
    "with open('code_test.txt', 'w') as f:\n",
    "    for item in code[8910:]:\n",
    "        f.write(\"%s\\n\" % item)"
   ]
  },
  {
   "cell_type": "code",
   "execution_count": null,
   "metadata": {},
   "outputs": [],
   "source": []
  }
 ],
 "metadata": {
  "kernelspec": {
   "display_name": "Python 3",
   "language": "python",
   "name": "python3"
  },
  "language_info": {
   "codemirror_mode": {
    "name": "ipython",
    "version": 3
   },
   "file_extension": ".py",
   "mimetype": "text/x-python",
   "name": "python",
   "nbconvert_exporter": "python",
   "pygments_lexer": "ipython3",
   "version": "3.6.5"
  }
 },
 "nbformat": 4,
 "nbformat_minor": 2
}
