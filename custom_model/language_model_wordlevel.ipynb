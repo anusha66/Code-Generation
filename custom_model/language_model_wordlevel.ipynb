{
 "cells": [
  {
   "cell_type": "code",
   "execution_count": 1,
   "metadata": {},
   "outputs": [],
   "source": [
    "import torch\n",
    "import numpy as np\n",
    "from torch.utils.data import Dataset, DataLoader\n",
    "import torch.nn as nn\n",
    "import torch\n",
    "from torch.autograd import Variable\n",
    "import os\n",
    "import torch.optim as optim\n",
    "import pickle\n",
    "import sys\n",
    "import pdb"
   ]
  },
  {
   "cell_type": "markdown",
   "metadata": {},
   "source": [
    "# Pandas 5 years data "
   ]
  },
  {
   "cell_type": "code",
   "execution_count": 2,
   "metadata": {},
   "outputs": [],
   "source": [
    "fp = open('/home/anushap/Code-Generation/nmt_model/data/nl2code/code_train.txt', 'r')\n",
    "raw_data = fp.readlines()\n",
    "fp.close()"
   ]
  },
  {
   "cell_type": "code",
   "execution_count": 3,
   "metadata": {},
   "outputs": [],
   "source": [
    "import py_utils as utils"
   ]
  },
  {
   "cell_type": "markdown",
   "metadata": {},
   "source": [
    "# create dictionaries "
   ]
  },
  {
   "cell_type": "code",
   "execution_count": null,
   "metadata": {},
   "outputs": [],
   "source": [
    "vocabulary = set()\n",
    "for line in raw_data:\n",
    "    try:\n",
    "        words = utils.tokenize_code(line, mode='canonicalize')\n",
    "        vocabulary = vocabulary.union(set(words))\n",
    "    except:\n",
    "        continue"
   ]
  },
  {
   "cell_type": "code",
   "execution_count": null,
   "metadata": {},
   "outputs": [],
   "source": [
    "char2id = dict()\n",
    "id2char = dict()\n",
    "for i, char in enumerate(vocabulary):\n",
    "    char2id[char] = i\n",
    "    id2char[i] = char"
   ]
  },
  {
   "cell_type": "markdown",
   "metadata": {},
   "source": [
    "# Use existing vocabulary for consistency reasons "
   ]
  },
  {
   "cell_type": "code",
   "execution_count": 4,
   "metadata": {},
   "outputs": [],
   "source": [
    "import sys\n",
    "sys.path.append('/home/anushap/Code-Generation/nmt_model')"
   ]
  },
  {
   "cell_type": "code",
   "execution_count": 5,
   "metadata": {},
   "outputs": [],
   "source": [
    "from docopt import docopt\n",
    "from vocab import Vocab, VocabEntry"
   ]
  },
  {
   "cell_type": "code",
   "execution_count": 6,
   "metadata": {},
   "outputs": [],
   "source": [
    "vocabulary = pickle.load(open('/home/anushap/Code-Generation/nmt_model/data/nl2code/vocab.bin', 'rb'))"
   ]
  },
  {
   "cell_type": "markdown",
   "metadata": {},
   "source": [
    "# Data Loading"
   ]
  },
  {
   "cell_type": "code",
   "execution_count": 7,
   "metadata": {},
   "outputs": [],
   "source": [
    "def sample_gumbel(shape, eps=1e-10, out=None):\n",
    "    \"\"\"\n",
    "    Sample from Gumbel(0, 1)\n",
    "    based on\n",
    "    https://github.com/ericjang/gumbel-softmax/blob/3c8584924603869e90ca74ac20a6a03d99a91ef9/Categorical%20VAE.ipynb ,\n",
    "    (MIT license)\n",
    "    \"\"\"\n",
    "    U = out.resize_(shape).uniform_() if out is not None else torch.rand(shape)\n",
    "    return - torch.log(eps - torch.log(U + eps))"
   ]
  },
  {
   "cell_type": "code",
   "execution_count": 9,
   "metadata": {},
   "outputs": [],
   "source": [
    "def preprocess_inputs(data):\n",
    "    converted_data = []\n",
    "    for line in data:\n",
    "        try:\n",
    "            x = [vocabulary.tgt.word2id.get(word, 3) for word in utils.tokenize_code(line)]\n",
    "            converted_data.extend(x)\n",
    "        except:\n",
    "            continue\n",
    "    return np.array(converted_data)"
   ]
  },
  {
   "cell_type": "code",
   "execution_count": 10,
   "metadata": {},
   "outputs": [],
   "source": [
    "total_data = preprocess_inputs(raw_data)"
   ]
  },
  {
   "cell_type": "code",
   "execution_count": 11,
   "metadata": {},
   "outputs": [],
   "source": [
    "class TextDataLoader(DataLoader):\n",
    "\n",
    "    def __init__(self, data, batch_size=1):\n",
    "        self.data = data\n",
    "        self.batch_size = batch_size\n",
    "\n",
    "    def __iter__(self):\n",
    "        data = preprocess_inputs(self.data)\n",
    "        n = len(data) - 1\n",
    "        m = n // self.batch_size\n",
    "        data = data[:self.batch_size * m + 1]\n",
    "        inputs = data[:-1].reshape((self.batch_size, m)).T\n",
    "        targets = data[1:].reshape((self.batch_size, m)).T\n",
    "\n",
    "        pos = 0\n",
    "\n",
    "        while n - pos > 0:\n",
    "\n",
    "            l = np.random.random_integers(40, 60)\n",
    "            if pos + l >= m:\n",
    "                break\n",
    "\n",
    "            yield inputs[pos:pos+l], targets[pos: pos+l]\n",
    "            pos += l\n"
   ]
  },
  {
   "cell_type": "code",
   "execution_count": 12,
   "metadata": {},
   "outputs": [],
   "source": [
    "N = len(raw_data)\n",
    "permute = np.random.permutation(N)\n",
    "raw_data = np.array(raw_data)[permute]\n",
    "idx = int(0.7* len(raw_data))\n",
    "train_data = raw_data[0:idx]\n",
    "dev_data = raw_data[idx:]"
   ]
  },
  {
   "cell_type": "code",
   "execution_count": 13,
   "metadata": {},
   "outputs": [],
   "source": [
    "train_loader = TextDataLoader(train_data, batch_size=32)"
   ]
  },
  {
   "cell_type": "code",
   "execution_count": 14,
   "metadata": {},
   "outputs": [],
   "source": [
    "vocabsize = len(vocabulary.tgt.word2id.keys())"
   ]
  },
  {
   "cell_type": "markdown",
   "metadata": {},
   "source": [
    "# Model "
   ]
  },
  {
   "cell_type": "code",
   "execution_count": 15,
   "metadata": {},
   "outputs": [],
   "source": [
    "class Net(nn.Module):\n",
    "    def __init__(self, embedding_dim, hidden_dim, vocab_size, tagset_size):\n",
    "        super(Net, self).__init__()\n",
    "        self.hidden_dim = hidden_dim\n",
    "        self.word_embeddings = nn.Embedding(vocab_size, embedding_dim)\n",
    "        self.lstm1 = nn.LSTM(embedding_dim, hidden_dim)\n",
    "        self.lstm2 = nn.LSTM(hidden_dim, hidden_dim)\n",
    "        self.lstm3 = nn.LSTM(hidden_dim, hidden_dim)\n",
    "        self.hidden2word = nn.Linear(hidden_dim, tagset_size)\n",
    "\n",
    "    def forward(self, sentence, forward):\n",
    "\n",
    "        embeds = self.word_embeddings(sentence)\n",
    "        lstm_out, h1 = self.lstm1(embeds)\n",
    "        lstm_out, h2 = self.lstm2(lstm_out)\n",
    "        lstm_out, h3 = self.lstm3(lstm_out)\n",
    "        h = self.hidden2word(lstm_out)\n",
    "\n",
    "        gumbel = Variable(sample_gumbel(shape=h.size(), out=h.data.new()))\n",
    "        h += gumbel\n",
    "        logits = h\n",
    "\n",
    "        if forward > 0:\n",
    "            outputs = []\n",
    "            logits = torch.transpose(logits, 0, 1)\n",
    "            h = torch.max(logits[:, -1:, :], dim = 2)[1].t()\n",
    "\n",
    "            for i in range(forward):\n",
    "                h = self.word_embeddings(h)\n",
    "                h, _ = self.lstm1(h)\n",
    "                h = self.hidden2word(h)\n",
    "                gumbel = Variable(sample_gumbel(shape=h.size(), out=h.data.new()))\n",
    "                h += gumbel\n",
    "                outputs.append(h)\n",
    "                h = torch.max(h, dim=2)[1]\n",
    "\n",
    "            logits = torch.transpose(logits, 0, 1)\n",
    "            logits = torch.cat([logits] + outputs, dim=0)\n",
    "            logits = torch.max(logits, dim=2)[1]\n",
    "        return logits\n"
   ]
  },
  {
   "cell_type": "code",
   "execution_count": 19,
   "metadata": {},
   "outputs": [],
   "source": [
    "model = Net(64, 256, vocabsize, vocabsize)\n",
    "criterion = nn.CrossEntropyLoss()\n",
    "optimizer = optim.Adam(model.parameters(), lr=0.001)"
   ]
  },
  {
   "cell_type": "code",
   "execution_count": 20,
   "metadata": {},
   "outputs": [
    {
     "data": {
      "text/plain": [
       "Net(\n",
       "  (word_embeddings): Embedding(10002, 64)\n",
       "  (lstm1): LSTM(64, 256)\n",
       "  (lstm2): LSTM(256, 256)\n",
       "  (lstm3): LSTM(256, 256)\n",
       "  (hidden2word): Linear(in_features=256, out_features=10002, bias=True)\n",
       ")"
      ]
     },
     "execution_count": 20,
     "metadata": {},
     "output_type": "execute_result"
    }
   ],
   "source": [
    "model.cuda()"
   ]
  },
  {
   "cell_type": "code",
   "execution_count": null,
   "metadata": {},
   "outputs": [],
   "source": [
    "for epoch in range(10):\n",
    "    print ('Epoch num ', epoch)\n",
    "    for i, data in enumerate(train_loader):\n",
    "        inputs, targets = data\n",
    "        inputs, targets = Variable(torch.LongTensor(inputs).cuda()), Variable(torch.LongTensor(targets).cuda())\n",
    "\n",
    "        model.zero_grad()\n",
    "\n",
    "        word_scores = model(inputs, 0)\n",
    "\n",
    "        r, c, h = word_scores.shape\n",
    "        word_scores = word_scores.view(r * c, h)\n",
    "\n",
    "        targets = targets.contiguous().view(-1)\n",
    "\n",
    "        loss = criterion(word_scores, targets)\n",
    "        if i%20 == 0:\n",
    "            print('Loss is ', loss.data.cpu().numpy())\n",
    "        loss.backward()\n",
    "        optimizer.step()"
   ]
  },
  {
   "cell_type": "markdown",
   "metadata": {},
   "source": [
    "# Evaluation "
   ]
  },
  {
   "cell_type": "code",
   "execution_count": 22,
   "metadata": {},
   "outputs": [],
   "source": [
    "dev_loader = TextDataLoader(dev_data, batch_size=32)"
   ]
  },
  {
   "cell_type": "code",
   "execution_count": 24,
   "metadata": {},
   "outputs": [
    {
     "data": {
      "text/plain": [
       "Net(\n",
       "  (word_embeddings): Embedding(10002, 64)\n",
       "  (lstm1): LSTM(64, 256)\n",
       "  (lstm2): LSTM(256, 256)\n",
       "  (lstm3): LSTM(256, 256)\n",
       "  (hidden2word): Linear(in_features=256, out_features=10002, bias=True)\n",
       ")"
      ]
     },
     "execution_count": 24,
     "metadata": {},
     "output_type": "execute_result"
    }
   ],
   "source": [
    "model.train(False)\n",
    "model.eval()"
   ]
  },
  {
   "cell_type": "code",
   "execution_count": 25,
   "metadata": {},
   "outputs": [
    {
     "name": "stderr",
     "output_type": "stream",
     "text": [
      "/home/spothara/anaconda3/envs/i_study/lib/python3.6/site-packages/ipykernel_launcher.py:19: DeprecationWarning: This function is deprecated. Please call randint(40, 60 + 1) instead\n"
     ]
    }
   ],
   "source": [
    "final_ip = []\n",
    "final_op = []\n",
    "for epoch in range(1):\n",
    "    for i, data in enumerate(dev_loader):\n",
    "        inputs, targets = data\n",
    "        final_ip.append(inputs.transpose())\n",
    "        inputs, targets = Variable(torch.LongTensor(inputs).cuda()), Variable(torch.LongTensor(targets).cuda())\n",
    "\n",
    "        word_scores = model(inputs, 20)\n",
    "        outputs = word_scores.transpose(0, 1)\n",
    "        \n",
    "        final_op.append(outputs[:, -20:].cpu().data.numpy())\n",
    "        "
   ]
  },
  {
   "cell_type": "code",
   "execution_count": 26,
   "metadata": {},
   "outputs": [
    {
     "data": {
      "text/plain": [
       "((32, 54), (32, 20))"
      ]
     },
     "execution_count": 26,
     "metadata": {},
     "output_type": "execute_result"
    }
   ],
   "source": [
    "final_ip[0].shape, final_op[0].shape"
   ]
  },
  {
   "cell_type": "code",
   "execution_count": null,
   "metadata": {},
   "outputs": [],
   "source": [
    "fp = open('dummy_pandas_train_word_latest.txt', 'w')\n",
    "for i, item in enumerate(final_ip):\n",
    "    for j, line in enumerate(item):\n",
    "        chars = [id2char[x] for x in line]\n",
    "        fp.write(''.join(chars))\n",
    "        op_chars = [id2char[x] for x in final_op[i][j]]\n",
    "        fp.write(''.join(chars))\n",
    "        fp.write('\\n')"
   ]
  },
  {
   "cell_type": "code",
   "execution_count": null,
   "metadata": {},
   "outputs": [],
   "source": [
    "len(final_ip)"
   ]
  },
  {
   "cell_type": "code",
   "execution_count": null,
   "metadata": {},
   "outputs": [],
   "source": []
  }
 ],
 "metadata": {
  "kernelspec": {
   "display_name": "Python 3",
   "language": "python",
   "name": "python3"
  },
  "language_info": {
   "codemirror_mode": {
    "name": "ipython",
    "version": 3
   },
   "file_extension": ".py",
   "mimetype": "text/x-python",
   "name": "python",
   "nbconvert_exporter": "python",
   "pygments_lexer": "ipython3",
   "version": "3.6.5"
  }
 },
 "nbformat": 4,
 "nbformat_minor": 2
}
