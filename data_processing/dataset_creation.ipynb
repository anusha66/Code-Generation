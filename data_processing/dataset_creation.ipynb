{
 "cells": [
  {
   "cell_type": "code",
   "execution_count": 43,
   "metadata": {},
   "outputs": [],
   "source": [
    "import pickle\n",
    "import random\n",
    "import numpy as np"
   ]
  },
  {
   "cell_type": "code",
   "execution_count": 44,
   "metadata": {},
   "outputs": [],
   "source": [
    "f = open('/home/anushap/Code-Generation-Old/pandas_context_dataset_5years_no_dups_filtered_nl2code.pkl','rb')\n",
    "data_nl = pickle.load(f)\n",
    "\n",
    "f = open('/home/anushap/Code-Generation-Old/pandas_context_dataset_5years_no_dups_filtered_code2code.pkl','rb')\n",
    "data_code = pickle.load(f)"
   ]
  },
  {
   "cell_type": "code",
   "execution_count": 46,
   "metadata": {},
   "outputs": [
    {
     "name": "stdout",
     "output_type": "stream",
     "text": [
      "(['## 2. convert the json object into a python dictionary'], ['d = r.json()\\n', 'd']) (['r= requests.get(\"https://www.quandl.com/api/v3/datasets/FSE/AFX_X/data.json?start_date=2017-01-01&end_date=2017-12-31\")\\n'], ['d = r.json()\\n', 'd'])\n"
     ]
    }
   ],
   "source": [
    "print(data_nl[1],data_code[1])"
   ]
  },
  {
   "cell_type": "code",
   "execution_count": 37,
   "metadata": {},
   "outputs": [],
   "source": [
    "#order = np.arange(len(data))\n",
    "#np.random.shuffle(order)\n",
    "#pickle.dump(order,open('pickles/shuffle_order.pkl','wb'))\n",
    "#random.shuffle(data)"
   ]
  },
  {
   "cell_type": "code",
   "execution_count": 47,
   "metadata": {},
   "outputs": [
    {
     "name": "stdout",
     "output_type": "stream",
     "text": [
      "95298\n"
     ]
    }
   ],
   "source": [
    "order = pickle.load(open('pickles/shuffle_order.pkl','rb'))\n",
    "print(len(order))"
   ]
  },
  {
   "cell_type": "code",
   "execution_count": 49,
   "metadata": {},
   "outputs": [],
   "source": [
    "nl = []\n",
    "code = []\n",
    "code_code = []\n",
    "code_nl = []\n",
    "\n",
    "for i in order:\n",
    "    \n",
    "    temp1 = ' '.join(data_nl[i][0])\n",
    "    nl.append(temp1.replace(' \\n',' $').replace('\\n',' $'))\n",
    "    \n",
    "    temp2 = ' '.join(data_nl[i][1])\n",
    "    code_nl.append(temp2.replace(' \\n',' $').replace('\\n',' $'))\n",
    "    \n",
    "    temp1 = ' '.join(data_code[i][0])\n",
    "    code.append(temp1.replace(' \\n',' $').replace('\\n',' $'))\n",
    "    \n",
    "    temp2 = ' '.join(data_code[i][1])\n",
    "    code_code.append(temp2.replace(' \\n',' $').replace('\\n',' $'))\n",
    "    "
   ]
  },
  {
   "cell_type": "code",
   "execution_count": 50,
   "metadata": {},
   "outputs": [
    {
     "name": "stdout",
     "output_type": "stream",
     "text": [
      "let's load all the data, aggregate it into a single dataframe and look at the fields. \n",
      " print('Preview dataset info') $ print('Unique questions:', df['question_id'].nunique()) $ print('Unique users:', df['user_id'].nunique()) $ print('Total predictions:', df.shape[0]) \n",
      " df.sample(3) \n",
      " print('Preview dataset info') $ print('Unique questions:', df['question_id'].nunique()) $ print('Unique users:', df['user_id'].nunique()) $ print('Total predictions:', df.shape[0])\n"
     ]
    }
   ],
   "source": [
    "print(nl[1],'\\n',code_nl[1],'\\n',code[1],'\\n',code_code[1])"
   ]
  },
  {
   "cell_type": "code",
   "execution_count": 51,
   "metadata": {},
   "outputs": [
    {
     "name": "stdout",
     "output_type": "stream",
     "text": [
      "95298 95298\n"
     ]
    }
   ],
   "source": [
    "print(len(nl),len(code))"
   ]
  },
  {
   "cell_type": "code",
   "execution_count": 34,
   "metadata": {},
   "outputs": [
    {
     "data": {
      "text/plain": [
       "76238"
      ]
     },
     "execution_count": 34,
     "metadata": {},
     "output_type": "execute_result"
    }
   ],
   "source": [
    "int(0.80*len(nl))"
   ]
  },
  {
   "cell_type": "code",
   "execution_count": 22,
   "metadata": {},
   "outputs": [
    {
     "data": {
      "text/plain": [
       "85768"
      ]
     },
     "execution_count": 22,
     "metadata": {},
     "output_type": "execute_result"
    }
   ],
   "source": [
    "int(0.80*len(nl)+0.1*len(nl))"
   ]
  },
  {
   "cell_type": "code",
   "execution_count": 52,
   "metadata": {},
   "outputs": [],
   "source": [
    "with open('nl_train.txt', 'w') as f:\n",
    "    for item in nl[0:int(0.80*len(nl))]:\n",
    "        f.write(\"%s\\n\" % item)\n",
    "        \n",
    "with open('code_train.txt', 'w') as f:\n",
    "    for item in code_nl[0:int(0.80*len(nl))]:\n",
    "        f.write(\"%s\\n\" % item)"
   ]
  },
  {
   "cell_type": "code",
   "execution_count": 53,
   "metadata": {},
   "outputs": [],
   "source": [
    "with open('nl_dev.txt', 'w') as f:\n",
    "    for item in nl[int(0.80*len(nl)):int(0.80*len(nl)+0.1*len(nl))]:\n",
    "        f.write(\"%s\\n\" % item)\n",
    "        \n",
    "with open('code_dev.txt', 'w') as f:\n",
    "    for item in code_nl[int(0.80*len(nl)):int(0.80*len(nl)+0.1*len(nl))]:\n",
    "        f.write(\"%s\\n\" % item)"
   ]
  },
  {
   "cell_type": "code",
   "execution_count": 54,
   "metadata": {},
   "outputs": [],
   "source": [
    "with open('nl_test.txt', 'w') as f:\n",
    "    for item in nl[int(0.80*len(nl)+0.1*len(nl)):]:\n",
    "        f.write(\"%s\\n\" % item)\n",
    "        \n",
    "with open('code_test.txt', 'w') as f:\n",
    "    for item in code_nl[int(0.80*len(nl)+0.1*len(nl)):]:\n",
    "        f.write(\"%s\\n\" % item)"
   ]
  },
  {
   "cell_type": "code",
   "execution_count": 55,
   "metadata": {},
   "outputs": [],
   "source": [
    "with open('nl_train.txt', 'w') as f:\n",
    "    for item in code[0:int(0.80*len(nl))]:\n",
    "        f.write(\"%s\\n\" % item)\n",
    "        \n",
    "with open('code_train.txt', 'w') as f:\n",
    "    for item in code_code[0:int(0.80*len(nl))]:\n",
    "        f.write(\"%s\\n\" % item)\n",
    "        \n",
    "with open('nl_dev.txt', 'w') as f:\n",
    "    for item in code[int(0.80*len(nl)):int(0.80*len(nl)+0.1*len(nl))]:\n",
    "        f.write(\"%s\\n\" % item)\n",
    "        \n",
    "with open('code_dev.txt', 'w') as f:\n",
    "    for item in code_code[int(0.80*len(nl)):int(0.80*len(nl)+0.1*len(nl))]:\n",
    "        f.write(\"%s\\n\" % item)\n",
    "        \n",
    "with open('nl_test.txt', 'w') as f:\n",
    "    for item in code[int(0.80*len(nl)+0.1*len(nl)):]:\n",
    "        f.write(\"%s\\n\" % item)\n",
    "        \n",
    "with open('code_test.txt', 'w') as f:\n",
    "    for item in code_code[int(0.80*len(nl)+0.1*len(nl)):]:\n",
    "        f.write(\"%s\\n\" % item)"
   ]
  },
  {
   "cell_type": "code",
   "execution_count": null,
   "metadata": {},
   "outputs": [],
   "source": []
  }
 ],
 "metadata": {
  "kernelspec": {
   "display_name": "Python 3",
   "language": "python",
   "name": "python3"
  },
  "language_info": {
   "codemirror_mode": {
    "name": "ipython",
    "version": 3
   },
   "file_extension": ".py",
   "mimetype": "text/x-python",
   "name": "python",
   "nbconvert_exporter": "python",
   "pygments_lexer": "ipython3",
   "version": "3.6.5"
  }
 },
 "nbformat": 4,
 "nbformat_minor": 2
}
