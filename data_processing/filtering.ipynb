{
 "cells": [
  {
   "cell_type": "code",
   "execution_count": 1,
   "metadata": {},
   "outputs": [],
   "source": [
    "import pdb\n",
    "import json\n",
    "import glob\n",
    "import pickle\n",
    "import tokenize\n",
    "from io import StringIO\n",
    "import numpy as np\n",
    "import sys\n",
    "from collections import Counter"
   ]
  },
  {
   "cell_type": "code",
   "execution_count": null,
   "metadata": {},
   "outputs": [],
   "source": [
    "with open('pickles/matplotlib_dataset.pkl', 'rb') as fp:\n",
    "    matplotlib_data = pickle.load(fp)"
   ]
  },
  {
   "cell_type": "code",
   "execution_count": 2,
   "metadata": {},
   "outputs": [],
   "source": [
    "with open('/home/anushap/Code-Generation-Old/pandas_context_dataset_5years_no_dups.pkl', 'rb') as fp:\n",
    "    pandas_data = pickle.load(fp)"
   ]
  },
  {
   "cell_type": "code",
   "execution_count": 3,
   "metadata": {},
   "outputs": [
    {
     "data": {
      "text/plain": [
       "33205"
      ]
     },
     "execution_count": 3,
     "metadata": {},
     "output_type": "execute_result"
    }
   ],
   "source": [
    "len(pandas_data)"
   ]
  },
  {
   "cell_type": "code",
   "execution_count": null,
   "metadata": {},
   "outputs": [],
   "source": [
    "len(matplotlib_data)"
   ]
  },
  {
   "cell_type": "code",
   "execution_count": null,
   "metadata": {},
   "outputs": [],
   "source": [
    "code = [''.join(item[0]) for item in matplotlib_data]\n",
    "intent = [''.join(item[1]) for item in matplotlib_data]"
   ]
  },
  {
   "cell_type": "markdown",
   "metadata": {},
   "source": [
    "# Filtering \\n s from code and intent"
   ]
  },
  {
   "cell_type": "code",
   "execution_count": null,
   "metadata": {},
   "outputs": [],
   "source": [
    "line_stripped_data = []\n",
    "for item in pandas_data:\n",
    "    code, intent = [], []\n",
    "    for line in item[0]:\n",
    "        if line == '\\n':\n",
    "            continue\n",
    "        code.append(line)\n",
    "    for text in item[1]:\n",
    "        if text == '\\n':\n",
    "            continue\n",
    "        intent.append(text)\n",
    "    line_stripped_data.append((code, intent))"
   ]
  },
  {
   "cell_type": "code",
   "execution_count": null,
   "metadata": {},
   "outputs": [],
   "source": [
    "len(line_stripped_data)"
   ]
  },
  {
   "cell_type": "markdown",
   "metadata": {},
   "source": [
    "# Filtering non ascii characters from code and intent"
   ]
  },
  {
   "cell_type": "code",
   "execution_count": null,
   "metadata": {},
   "outputs": [],
   "source": [
    "def is_ascii(s):\n",
    "    return all(ord(c) < 128 for c in s)"
   ]
  },
  {
   "cell_type": "code",
   "execution_count": null,
   "metadata": {},
   "outputs": [],
   "source": [
    "ascii_filtered_data = []\n",
    "for item in line_stripped_data:\n",
    "    code, intent = [], []\n",
    "    for line in item[0]:\n",
    "        if is_ascii(line):\n",
    "            code.append(line)\n",
    "    \n",
    "    for line in item[1]:\n",
    "        if is_ascii(line):\n",
    "            intent.append(line)\n",
    "            \n",
    "    if code == [] or intent == []:\n",
    "        continue\n",
    "    ascii_filtered_data.append((code, intent))"
   ]
  },
  {
   "cell_type": "code",
   "execution_count": null,
   "metadata": {},
   "outputs": [],
   "source": [
    "len(ascii_filtered_data)"
   ]
  },
  {
   "cell_type": "markdown",
   "metadata": {},
   "source": [
    "# Filtering examples which are only 3 lines (both code and intent)"
   ]
  },
  {
   "cell_type": "code",
   "execution_count": null,
   "metadata": {},
   "outputs": [],
   "source": [
    "lines_reduced_data = []\n",
    "for item in ascii_filtered_data:\n",
    "    if 0 < len(item[0]) <= 3 and 0 < len(item[1]) <= 3:\n",
    "        lines_reduced_data.append(item)"
   ]
  },
  {
   "cell_type": "code",
   "execution_count": null,
   "metadata": {},
   "outputs": [],
   "source": [
    "len(lines_reduced_data)"
   ]
  },
  {
   "cell_type": "markdown",
   "metadata": {},
   "source": [
    "# Filtering based on Pandas functions"
   ]
  },
  {
   "cell_type": "code",
   "execution_count": null,
   "metadata": {},
   "outputs": [],
   "source": [
    "with open('pickles/pandas_fns_names.pkl', 'rb') as fp:\n",
    "    pandas_fns = pickle.load(fp)"
   ]
  },
  {
   "cell_type": "code",
   "execution_count": null,
   "metadata": {},
   "outputs": [],
   "source": [
    "len(pandas_fns)"
   ]
  },
  {
   "cell_type": "code",
   "execution_count": null,
   "metadata": {},
   "outputs": [],
   "source": [
    "def contains_pandas_api(codeline):\n",
    "    for func in pandas_fns:\n",
    "        if '.'+func in codeline:\n",
    "            return True\n",
    "    return False"
   ]
  },
  {
   "cell_type": "code",
   "execution_count": null,
   "metadata": {},
   "outputs": [],
   "source": [
    "pandas_fn_filtered_data = []\n",
    "for item in lines_reduced_data:\n",
    "    code = item[0]\n",
    "    if any(list(map(contains_pandas_api, code))):\n",
    "        pandas_fn_filtered_data.append(item)"
   ]
  },
  {
   "cell_type": "code",
   "execution_count": null,
   "metadata": {},
   "outputs": [],
   "source": [
    "len(pandas_fn_filtered_data)"
   ]
  },
  {
   "cell_type": "code",
   "execution_count": null,
   "metadata": {},
   "outputs": [],
   "source": [
    "pandas_fn_filtered_data[3]"
   ]
  },
  {
   "cell_type": "markdown",
   "metadata": {},
   "source": [
    "# Filtering based on pyplot functions"
   ]
  },
  {
   "cell_type": "code",
   "execution_count": null,
   "metadata": {},
   "outputs": [],
   "source": [
    "fp = open('pyplot_fns.txt', 'r')\n",
    "fp.readline()\n",
    "fn_lines = fp.readlines()\n",
    "fp.close()"
   ]
  },
  {
   "cell_type": "code",
   "execution_count": null,
   "metadata": {},
   "outputs": [],
   "source": [
    "pyplot_functions = []\n",
    "for line in fn_lines:\n",
    "    arr = line.split()\n",
    "    pyplot_functions.append(arr[0])"
   ]
  },
  {
   "cell_type": "code",
   "execution_count": null,
   "metadata": {},
   "outputs": [],
   "source": [
    "len(pyplot_functions)"
   ]
  },
  {
   "cell_type": "code",
   "execution_count": null,
   "metadata": {},
   "outputs": [],
   "source": [
    "def contains_pyplot_api(codeline):\n",
    "    for func in pyplot_functions:\n",
    "        if '.'+func in codeline:\n",
    "            return True\n",
    "    return False"
   ]
  },
  {
   "cell_type": "code",
   "execution_count": null,
   "metadata": {},
   "outputs": [],
   "source": [
    "pyplot_data = []\n",
    "for item in matplotlib_data:\n",
    "    code = item[0]\n",
    "    if any(list(map(contains_pyplot_api, code))):\n",
    "        pyplot_data.append(item)"
   ]
  },
  {
   "cell_type": "code",
   "execution_count": null,
   "metadata": {},
   "outputs": [],
   "source": [
    "len(pyplot_data)"
   ]
  },
  {
   "cell_type": "code",
   "execution_count": null,
   "metadata": {},
   "outputs": [],
   "source": [
    "pyplot_data[20]"
   ]
  },
  {
   "cell_type": "markdown",
   "metadata": {},
   "source": [
    "# For Pandas "
   ]
  },
  {
   "cell_type": "code",
   "execution_count": null,
   "metadata": {},
   "outputs": [],
   "source": [
    "fp = open('pandas_fn_raw.txt', 'r')\n",
    "data = fp.readlines()\n",
    "fp.close()"
   ]
  },
  {
   "cell_type": "code",
   "execution_count": null,
   "metadata": {},
   "outputs": [],
   "source": [
    "pandas_fns = []\n",
    "\n",
    "for line in data:\n",
    "    if \"(\" in line:\n",
    "        arr = line.split(\"(\")\n",
    "        if '.' in arr[0]:\n",
    "            new_arr = arr[0].split(\".\")\n",
    "            if len(new_arr) > 1:\n",
    "                new_arr = new_arr[1].split(\" \")\n",
    "                pandas_fns.append(new_arr[0].replace('\\n', ''))\n",
    "            else:\n",
    "                pandas_fns.append(new_arr[1].replace('\\n', ''))\n",
    "        else:\n",
    "            pandas_fns.append(arr[0].replace('\\n', ''))\n",
    "    else:\n",
    "        arr = line.split('.')\n",
    "        if len(arr)>1:\n",
    "            new_arr = arr[1].split(\" \")\n",
    "            pandas_fns.append(new_arr[0].replace('\\n', ''))\n",
    "        else:\n",
    "            if len(arr) > 1:\n",
    "                pandas_fns.append(arr[1].replace('\\n', ''))\n"
   ]
  },
  {
   "cell_type": "code",
   "execution_count": null,
   "metadata": {},
   "outputs": [],
   "source": [
    "len(pandas_fns)"
   ]
  },
  {
   "cell_type": "code",
   "execution_count": null,
   "metadata": {},
   "outputs": [],
   "source": [
    "pandas_fns = set(pandas_fns)"
   ]
  },
  {
   "cell_type": "code",
   "execution_count": null,
   "metadata": {},
   "outputs": [],
   "source": [
    "len(pandas_fns)"
   ]
  },
  {
   "cell_type": "code",
   "execution_count": null,
   "metadata": {},
   "outputs": [],
   "source": [
    "with open('pickles/pandas_fns_names.pkl', 'wb') as fp:\n",
    "    pickle.dump(pandas_fns, fp)"
   ]
  },
  {
   "cell_type": "code",
   "execution_count": null,
   "metadata": {},
   "outputs": [],
   "source": [
    "len(pandas_data)"
   ]
  },
  {
   "cell_type": "code",
   "execution_count": null,
   "metadata": {},
   "outputs": [],
   "source": []
  }
 ],
 "metadata": {
  "kernelspec": {
   "display_name": "Python 3",
   "language": "python",
   "name": "python3"
  },
  "language_info": {
   "codemirror_mode": {
    "name": "ipython",
    "version": 3
   },
   "file_extension": ".py",
   "mimetype": "text/x-python",
   "name": "python",
   "nbconvert_exporter": "python",
   "pygments_lexer": "ipython3",
   "version": "3.6.5"
  }
 },
 "nbformat": 4,
 "nbformat_minor": 2
}
