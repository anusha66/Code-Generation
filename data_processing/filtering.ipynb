{
 "cells": [
  {
   "cell_type": "code",
   "execution_count": 1,
   "metadata": {},
   "outputs": [],
   "source": [
    "import pdb\n",
    "import json\n",
    "import glob\n",
    "import pickle\n",
    "import tokenize\n",
    "from io import StringIO\n",
    "import numpy as np\n",
    "import sys\n",
    "from collections import Counter"
   ]
  },
  {
   "cell_type": "code",
   "execution_count": 2,
   "metadata": {},
   "outputs": [],
   "source": [
    "def load_data(file_path):\n",
    "    with open(file_path, 'rb') as fp:\n",
    "        data = pickle.load(fp)\n",
    "    return data"
   ]
  },
  {
   "cell_type": "markdown",
   "metadata": {},
   "source": [
    "# Filtering \\n s from code and intent"
   ]
  },
  {
   "cell_type": "code",
   "execution_count": 3,
   "metadata": {},
   "outputs": [],
   "source": [
    "def filter_newline(data, mode='nl', casefolding=True):\n",
    "    line_stripped_data = []\n",
    "    for item in data:\n",
    "        src_code, tgt, src_nl = [], [], []\n",
    "        \n",
    "        for line in item[0]:\n",
    "            if line == '\\n' or line.strip() == '':\n",
    "                continue\n",
    "            tgt.append(line)\n",
    "            \n",
    "        #if mode == 'nl':\n",
    "        for text in item[2]:\n",
    "            if text == '\\n' or text.strip() == '':\n",
    "                continue\n",
    "            if casefolding:\n",
    "                src_nl.append(text.lower())\n",
    "            else:\n",
    "                src_nl.append(text)\n",
    "                    \n",
    "        #if mode == 'code':\n",
    "        for text in item[1]:\n",
    "            if text == '\\n' or text.strip() == '':\n",
    "                continue\n",
    "            src_code.append(text)\n",
    "                \n",
    "        if len(src_code) and len(src_nl) and len(tgt):\n",
    "            line_stripped_data.append((src_code, src_nl, tgt))\n",
    "            \n",
    "    return line_stripped_data"
   ]
  },
  {
   "cell_type": "markdown",
   "metadata": {},
   "source": [
    "# Filtering non ascii characters from code and intent"
   ]
  },
  {
   "cell_type": "code",
   "execution_count": 4,
   "metadata": {},
   "outputs": [],
   "source": [
    "def is_ascii(s):\n",
    "    return all(ord(c) < 128 for c in s)"
   ]
  },
  {
   "cell_type": "code",
   "execution_count": 5,
   "metadata": {},
   "outputs": [],
   "source": [
    "def filter_ascii_data(data):\n",
    "    ascii_filtered_data = []\n",
    "    for item in data:\n",
    "        code_tgt, code_src, intent = [], [], []\n",
    "        for line in item[2]:\n",
    "            if is_ascii(line):\n",
    "                code_tgt.append(line)\n",
    "                \n",
    "        for line in item[0]:\n",
    "            if is_ascii(line):\n",
    "                code_src.append(line)\n",
    "    \n",
    "        for line in item[1]:\n",
    "            if is_ascii(line):\n",
    "                intent.append(line)\n",
    "            \n",
    "        if code_src == [] or intent == [] or code_tgt == []:\n",
    "            continue\n",
    "        ascii_filtered_data.append((code_src,intent,code_tgt))\n",
    "    return ascii_filtered_data"
   ]
  },
  {
   "cell_type": "markdown",
   "metadata": {},
   "source": [
    "# Filtering examples which are only 3 lines (both code and intent)"
   ]
  },
  {
   "cell_type": "code",
   "execution_count": 6,
   "metadata": {},
   "outputs": [],
   "source": [
    "def lines_reduced_filter(length, data):\n",
    "    lines_reduced_data = []\n",
    "    \n",
    "    for item in data:\n",
    "        if 0 < len(item[0]) <= length and 0 < len(item[1]) <= length and 0 < len(item[2]) <= length:\n",
    "            lines_reduced_data.append(item)\n",
    "            \n",
    "    return lines_reduced_data"
   ]
  },
  {
   "cell_type": "markdown",
   "metadata": {},
   "source": [
    "# Filtering based on Pandas functions"
   ]
  },
  {
   "cell_type": "code",
   "execution_count": 7,
   "metadata": {},
   "outputs": [],
   "source": [
    "with open('pickles/pandas_fns_names.pkl', 'rb') as fp:\n",
    "    pandas_fns = pickle.load(fp)"
   ]
  },
  {
   "cell_type": "code",
   "execution_count": 8,
   "metadata": {},
   "outputs": [],
   "source": [
    "def contains_pandas_api(codeline):\n",
    "    for func in pandas_fns:\n",
    "        if '.'+func in codeline:\n",
    "            return True\n",
    "    return False"
   ]
  },
  {
   "cell_type": "code",
   "execution_count": 9,
   "metadata": {},
   "outputs": [],
   "source": [
    "def pandas_fn_name_filter(data):\n",
    "    pandas_fn_filtered_data = []\n",
    "    \n",
    "    for item in data:\n",
    "        code = item[2]\n",
    "        if any(list(map(contains_pandas_api, code))):\n",
    "            pandas_fn_filtered_data.append(item)\n",
    "            \n",
    "    return pandas_fn_filtered_data"
   ]
  },
  {
   "cell_type": "markdown",
   "metadata": {},
   "source": [
    "# Chop every line to a maxium fixed length"
   ]
  },
  {
   "cell_type": "code",
   "execution_count": 10,
   "metadata": {},
   "outputs": [],
   "source": [
    "def chop_data(data, length):\n",
    "    chopped_data = []\n",
    "    \n",
    "    for item in data:\n",
    "        code_src,intent,code_tgt = item[0], item[1], item[2]\n",
    "        #src, tgt = item[0], item[1]\n",
    "        code_src_chopped,intent_chopped,code_tgt_chopped = [], [], []\n",
    "        #src_chopped, tgt_chopped = [], []\n",
    "        \n",
    "        for line in code_src:\n",
    "            code_src_chopped.append(line[:length])\n",
    "            \n",
    "        for line in intent:\n",
    "            intent_chopped.append(line[:length])\n",
    "            \n",
    "        for line in code_tgt:\n",
    "            code_tgt_chopped.append(line[:length])\n",
    "            \n",
    "        chopped_data.append((code_src_chopped,intent_chopped,code_tgt_chopped))\n",
    "    return chopped_data"
   ]
  },
  {
   "cell_type": "code",
   "execution_count": 11,
   "metadata": {},
   "outputs": [
    {
     "name": "stdout",
     "output_type": "stream",
     "text": [
      "112445  is original raw data\n"
     ]
    }
   ],
   "source": [
    "pandas_data = load_data('/home/anushap/Code-Generation-Old/pandas_context_dataset_5years_no_dups_FINAL.pkl')\n",
    "print (len(pandas_data), ' is original raw data')\n",
    "line_stripped_data = filter_newline(pandas_data, mode='nl')"
   ]
  },
  {
   "cell_type": "code",
   "execution_count": 12,
   "metadata": {},
   "outputs": [
    {
     "data": {
      "text/plain": [
       "([\"API_KEY = 'hEerZVQ4FJm8y725RJsB'\"],\n",
       " [\"keep in mind that the json responses you will be getting from the api map almost one-to-one to python's dictionaries. unfortunately, they can be very nested, so make sure you read up on indexing dictionaries in the documentation provided above.\"],\n",
       " ['import requests\\n'])"
      ]
     },
     "execution_count": 12,
     "metadata": {},
     "output_type": "execute_result"
    }
   ],
   "source": [
    "line_stripped_data[0]"
   ]
  },
  {
   "cell_type": "code",
   "execution_count": 13,
   "metadata": {},
   "outputs": [
    {
     "name": "stdout",
     "output_type": "stream",
     "text": [
      "103040  is after ascii filtering\n"
     ]
    }
   ],
   "source": [
    "ascii_filtered_data = filter_ascii_data(line_stripped_data)\n",
    "print (len(ascii_filtered_data), ' is after ascii filtering')"
   ]
  },
  {
   "cell_type": "code",
   "execution_count": 14,
   "metadata": {},
   "outputs": [
    {
     "data": {
      "text/plain": [
       "(['import requests\\n'],\n",
       " [\"keep in mind that the json responses you will be getting from the api map almost one-to-one to python's dictionaries. unfortunately, they can be very nested, so make sure you read up on indexing dictionaries in the documentation provided above.\"],\n",
       " ['r= requests.get(\"https://www.quandl.com/api/v3/datasets/FSE/AFX_X/data.json\")\\n',\n",
       "  'json_data = r.json()\\n',\n",
       "  'json_data[\"dataset_data\"][\"data\"][0]'])"
      ]
     },
     "execution_count": 14,
     "metadata": {},
     "output_type": "execute_result"
    }
   ],
   "source": [
    "ascii_filtered_data[1]"
   ]
  },
  {
   "cell_type": "code",
   "execution_count": 15,
   "metadata": {},
   "outputs": [
    {
     "name": "stdout",
     "output_type": "stream",
     "text": [
      "1 1 3\n",
      "Counter({1: 43713, 2: 18106, 3: 9368, 4: 6210, 5: 4318, 6: 3484, 7: 2506, 8: 1957, 9: 1625, 10: 1369, 11: 990, 12: 913, 13: 760, 14: 671, 15: 557, 16: 513, 17: 421, 18: 360, 19: 336, 20: 305, 21: 297, 22: 225, 23: 188, 25: 171, 24: 167, 26: 157, 33: 130, 28: 127, 27: 126, 32: 94, 29: 90, 34: 86, 31: 79, 30: 68, 35: 66, 36: 65, 37: 59, 39: 55, 40: 48, 44: 47, 41: 45, 46: 44, 42: 42, 38: 41, 43: 38, 47: 36, 45: 34, 58: 32, 54: 24, 50: 24, 59: 24, 51: 24, 53: 24, 56: 22, 60: 22, 66: 21, 61: 21, 62: 20, 84: 19, 68: 19, 52: 19, 48: 18, 49: 18, 130: 18, 55: 18, 76: 17, 77: 17, 57: 17, 155: 16, 63: 16, 132: 15, 69: 15, 71: 14, 70: 14, 163: 14, 82: 14, 88: 14, 75: 14, 72: 14, 118: 14, 65: 13, 86: 13, 218: 13, 102: 13, 94: 12, 87: 12, 64: 12, 85: 12, 184: 11, 177: 11, 99: 11, 74: 11, 153: 11, 89: 11, 98: 11, 166: 10, 133: 10, 73: 10, 90: 10, 207: 10, 154: 10, 156: 10, 126: 10, 139: 10, 197: 9, 150: 9, 122: 9, 93: 9, 81: 9, 128: 9, 148: 9, 158: 9, 116: 9, 79: 9, 112: 9, 107: 9, 80: 9, 190: 8, 97: 8, 127: 8, 117: 8, 119: 8, 83: 8, 124: 8, 101: 8, 67: 7, 129: 7, 228: 7, 257: 7, 189: 7, 256: 7, 144: 7, 113: 7, 201: 7, 109: 7, 92: 7, 100: 7, 250: 7, 174: 7, 157: 7, 241: 7, 393: 7, 176: 7, 137: 6, 168: 6, 165: 6, 111: 6, 198: 6, 108: 6, 162: 6, 267: 6, 195: 6, 194: 6, 91: 6, 105: 6, 269: 6, 110: 6, 123: 5, 196: 5, 210: 5, 254: 5, 415: 5, 178: 5, 125: 5, 225: 5, 160: 5, 136: 5, 236: 5, 186: 5, 206: 5, 263: 5, 115: 5, 181: 5, 308: 5, 216: 5, 152: 5, 145: 5, 103: 5, 143: 5, 140: 5, 159: 5, 237: 5, 121: 5, 171: 5, 114: 5, 95: 4, 134: 4, 193: 4, 292: 4, 167: 4, 170: 4, 141: 4, 261: 4, 151: 4, 131: 4, 227: 4, 248: 4, 380: 4, 175: 4, 146: 4, 235: 4, 245: 4, 243: 4, 147: 4, 204: 4, 277: 4, 229: 4, 104: 4, 135: 4, 149: 4, 211: 4, 226: 4, 217: 4, 400: 4, 142: 4, 344: 4, 412: 3, 230: 3, 161: 3, 266: 3, 251: 3, 232: 3, 192: 3, 203: 3, 205: 3, 96: 3, 234: 3, 623: 3, 302: 3, 233: 3, 240: 3, 255: 3, 342: 3, 173: 3, 183: 3, 179: 3, 252: 3, 78: 3, 191: 3, 138: 3, 312: 3, 297: 3, 270: 3, 278: 3, 280: 3, 213: 3, 309: 3, 370: 3, 215: 2, 388: 2, 425: 2, 303: 2, 434: 2, 333: 2, 442: 2, 419: 2, 394: 2, 106: 2, 325: 2, 304: 2, 347: 2, 286: 2, 365: 2, 169: 2, 339: 2, 358: 2, 530: 2, 463: 2, 214: 2, 299: 2, 264: 2, 320: 2, 185: 2, 361: 2, 259: 2, 180: 2, 224: 2, 187: 2, 242: 2, 282: 2, 449: 2, 182: 2, 436: 2, 172: 2, 337: 2, 262: 2, 247: 2, 260: 2, 300: 2, 288: 2, 466: 2, 120: 2, 290: 2, 268: 2, 336: 2, 575: 2, 223: 2, 221: 2, 188: 2, 327: 2, 338: 2, 421: 2, 601: 2, 249: 2, 293: 2, 164: 2, 438: 1, 326: 1, 429: 1, 405: 1, 377: 1, 803: 1, 324: 1, 502: 1, 311: 1, 1521: 1, 258: 1, 373: 1, 745: 1, 424: 1, 450: 1, 612: 1, 893: 1, 679: 1, 538: 1, 519: 1, 765: 1, 844: 1, 431: 1, 491: 1, 567: 1, 617: 1, 616: 1, 457: 1, 621: 1, 43625: 1, 437: 1, 274: 1, 330: 1, 485: 1, 460: 1, 1021: 1, 807: 1, 296: 1, 631: 1, 381: 1, 630: 1, 413: 1, 613: 1, 1145: 1, 1026: 1, 2430: 1, 1262: 1, 426: 1, 353: 1, 1033: 1, 2362: 1, 458: 1, 1004: 1, 497: 1, 532: 1, 307: 1, 452: 1, 880: 1, 732: 1, 555: 1, 238: 1, 813: 1, 1029: 1, 588: 1, 1256: 1, 271: 1, 275: 1, 209: 1, 313: 1, 1874: 1, 534: 1, 516: 1, 879: 1, 1194: 1, 331: 1, 800: 1, 404: 1, 2649: 1, 1008: 1, 246: 1, 279: 1, 468: 1, 629: 1, 375: 1, 731: 1, 1074: 1, 1056: 1, 1110: 1, 3227: 1, 287: 1, 508: 1, 583: 1, 220: 1, 283: 1, 329: 1, 456: 1, 562: 1, 1003: 1, 1073: 1, 476: 1, 464: 1, 883: 1, 780: 1, 335: 1, 1307: 1, 1031: 1, 557: 1, 384: 1, 513: 1, 398: 1, 1015: 1, 666: 1, 686: 1, 1264: 1, 1341: 1, 348: 1, 495: 1, 200: 1, 1062: 1, 674: 1, 390: 1, 1288: 1, 408: 1, 585: 1, 700: 1, 1902: 1, 383: 1, 1077: 1, 454: 1, 378: 1, 1282: 1, 840: 1, 2127: 1, 2020: 1, 428: 1, 447: 1, 1217: 1, 566: 1, 443: 1, 219: 1, 395: 1, 2167: 1, 1027: 1, 636: 1, 730: 1, 1102: 1, 814: 1, 584: 1, 581: 1, 382: 1, 430: 1, 638: 1, 334: 1, 569: 1, 1028: 1, 396: 1, 759: 1, 208: 1, 2422: 1, 2062: 1, 355: 1, 222: 1, 265: 1, 833: 1, 314: 1, 930: 1, 284: 1, 385: 1, 386: 1, 676: 1, 402: 1, 341: 1, 540: 1, 547: 1, 482: 1, 352: 1, 422: 1, 363: 1, 614: 1, 350: 1, 665: 1, 708: 1, 627: 1, 323: 1, 1464: 1, 253: 1, 403: 1})\n",
      "Counter({1: 68332, 2: 14730, 3: 5058, 4: 3118, 5: 2258, 6: 1545, 8: 1345, 7: 1057, 9: 620, 10: 511, 12: 357, 11: 295, 13: 291, 14: 196, 16: 178, 19: 151, 21: 149, 27: 149, 15: 135, 17: 130, 18: 127, 23: 109, 41: 102, 20: 101, 26: 91, 60: 80, 22: 74, 28: 65, 220: 58, 686: 57, 153: 57, 243: 56, 30: 53, 129: 49, 38: 49, 208: 45, 25: 44, 176: 44, 181: 39, 45: 37, 46: 36, 116: 36, 24: 35, 43: 34, 34: 33, 186: 32, 37: 30, 29: 25, 39: 25, 42: 25, 32: 24, 103: 24, 33: 23, 35: 21, 88: 20, 36: 18, 85: 18, 74: 18, 63: 18, 47: 17, 57: 14, 59: 13, 54: 12, 31: 12, 51: 12, 50: 12, 70: 10, 64: 10, 40: 10, 61: 9, 49: 9, 56: 9, 79: 9, 62: 9, 90: 9, 48: 8, 260: 8, 44: 7, 55: 7, 131: 7, 96: 7, 137: 7, 53: 7, 136: 7, 94: 6, 66: 6, 111: 6, 73: 6, 218: 6, 442: 6, 286: 6, 58: 6, 160: 6, 127: 6, 108: 5, 91: 5, 242: 5, 223: 5, 197: 5, 107: 5, 71: 5, 120: 5, 171: 5, 52: 4, 195: 4, 1164: 4, 165: 4, 67: 4, 187: 4, 110: 4, 235: 4, 542: 4, 119: 3, 72: 3, 261: 3, 77: 3, 65: 3, 438: 3, 536: 3, 391: 3, 458: 3, 185: 3, 128: 3, 233: 3, 92: 3, 98: 3, 75: 3, 190: 3, 144: 3, 175: 3, 1057: 3, 514: 3, 364: 3, 515: 2, 76: 2, 182: 2, 113: 2, 358: 2, 87: 2, 141: 2, 69: 2, 86: 2, 315: 2, 234: 2, 516: 2, 150: 2, 147: 2, 320: 2, 792: 2, 936: 2, 245: 2, 149: 2, 122: 2, 362: 2, 125: 2, 97: 2, 105: 2, 922: 2, 83: 2, 241: 2, 684: 2, 217: 2, 722: 2, 1024: 2, 714: 2, 193: 2, 100: 2, 146: 2, 201: 2, 133: 1, 253: 1, 299: 1, 138: 1, 151: 1, 177: 1, 1833: 1, 209: 1, 227: 1, 167: 1, 246: 1, 635: 1, 404: 1, 587: 1, 163: 1, 529: 1, 95: 1, 239: 1, 130: 1, 682: 1, 1215: 1, 78: 1, 270: 1, 431: 1, 348: 1, 194: 1, 114: 1, 505: 1, 384: 1, 855: 1, 946: 1, 1192: 1, 211: 1, 329: 1, 839: 1, 291: 1, 347: 1, 403: 1, 957: 1, 1448: 1, 655: 1, 492: 1, 255: 1, 307: 1, 250: 1, 228: 1, 232: 1, 81: 1, 259: 1, 104: 1, 1026: 1, 303: 1, 859: 1, 157: 1, 1010: 1, 1001: 1, 866: 1, 143: 1, 418: 1, 180: 1, 154: 1, 406: 1, 93: 1, 162: 1, 231: 1, 1114: 1, 123: 1, 556: 1, 1376: 1, 142: 1, 106: 1, 156: 1, 89: 1, 390: 1, 459: 1, 219: 1, 265: 1, 238: 1, 121: 1, 183: 1, 267: 1, 530: 1, 528: 1, 479: 1, 547: 1, 148: 1})\n",
      "Counter({1: 43188, 2: 18447, 3: 9701, 4: 6245, 5: 4406, 6: 3403, 7: 2450, 8: 1933, 9: 1571, 10: 1336, 11: 974, 12: 913, 13: 733, 14: 664, 15: 536, 16: 521, 17: 417, 18: 347, 19: 332, 20: 312, 21: 302, 22: 210, 23: 201, 25: 177, 24: 166, 26: 163, 27: 134, 28: 125, 33: 110, 32: 94, 29: 94, 31: 86, 30: 84, 34: 82, 36: 76, 35: 67, 37: 60, 39: 53, 46: 49, 42: 48, 44: 45, 41: 45, 38: 44, 43: 44, 40: 39, 45: 38, 47: 31, 51: 27, 54: 25, 50: 25, 61: 25, 48: 23, 60: 22, 53: 22, 68: 21, 66: 20, 49: 20, 84: 20, 62: 19, 59: 19, 55: 19, 52: 19, 76: 18, 56: 18, 58: 17, 63: 16, 77: 15, 79: 15, 57: 15, 69: 14, 88: 14, 70: 14, 71: 14, 85: 14, 132: 13, 75: 13, 72: 13, 87: 12, 86: 12, 94: 12, 218: 12, 74: 12, 155: 12, 153: 12, 102: 12, 207: 12, 184: 11, 65: 11, 166: 11, 82: 11, 156: 11, 197: 10, 90: 10, 99: 10, 250: 10, 177: 10, 73: 10, 64: 10, 89: 10, 67: 9, 133: 9, 81: 9, 148: 9, 189: 9, 190: 9, 116: 9, 126: 9, 83: 9, 158: 9, 80: 9, 98: 9, 122: 8, 150: 8, 144: 8, 256: 8, 131: 8, 176: 8, 97: 8, 217: 8, 112: 8, 117: 8, 119: 8, 93: 8, 139: 8, 201: 7, 165: 7, 206: 7, 111: 7, 257: 7, 198: 7, 107: 7, 163: 7, 92: 7, 124: 7, 121: 7, 91: 7, 174: 7, 157: 7, 118: 7, 393: 7, 128: 7, 129: 6, 178: 6, 170: 6, 147: 6, 267: 6, 130: 6, 195: 6, 140: 6, 109: 6, 108: 6, 154: 6, 263: 6, 115: 6, 181: 6, 78: 6, 113: 6, 254: 6, 100: 6, 143: 6, 194: 6, 101: 6, 241: 6, 269: 6, 114: 6, 123: 5, 137: 5, 168: 5, 193: 5, 228: 5, 125: 5, 106: 5, 141: 5, 248: 5, 227: 5, 236: 5, 127: 5, 175: 5, 146: 5, 308: 5, 152: 5, 159: 5, 277: 5, 105: 5, 95: 5, 243: 5, 237: 5, 196: 5, 226: 5, 171: 5, 142: 5, 266: 4, 230: 4, 388: 4, 292: 4, 240: 4, 167: 4, 225: 4, 160: 4, 151: 4, 302: 4, 261: 4, 186: 4, 380: 4, 161: 4, 235: 4, 245: 4, 204: 4, 415: 4, 400: 4, 183: 4, 145: 4, 169: 4, 162: 4, 270: 4, 278: 4, 149: 4, 191: 4, 211: 4, 216: 4, 110: 4, 309: 4, 215: 3, 425: 3, 210: 3, 251: 3, 232: 3, 136: 3, 412: 3, 192: 3, 203: 3, 205: 3, 96: 3, 234: 3, 103: 3, 623: 3, 134: 3, 255: 3, 164: 3, 229: 3, 260: 3, 264: 3, 342: 3, 173: 3, 238: 3, 104: 3, 252: 3, 224: 3, 182: 3, 138: 3, 247: 3, 135: 3, 312: 3, 172: 3, 300: 3, 120: 3, 280: 3, 344: 3, 213: 3, 185: 3, 188: 3, 209: 3, 370: 3, 581: 2, 303: 2, 434: 2, 404: 2, 419: 2, 394: 2, 447: 2, 325: 2, 304: 2, 293: 2, 202: 2, 347: 2, 286: 2, 807: 2, 365: 2, 222: 2, 233: 2, 339: 2, 530: 2, 408: 2, 463: 2, 458: 2, 214: 2, 299: 2, 320: 2, 179: 2, 361: 2, 259: 2, 180: 2, 242: 2, 282: 2, 331: 2, 449: 2, 575: 2, 249: 2, 436: 2, 187: 2, 288: 2, 466: 2, 290: 2, 287: 2, 268: 2, 208: 2, 262: 2, 336: 2, 358: 2, 221: 2, 327: 2, 338: 2, 396: 2, 421: 2, 601: 2, 337: 2, 420: 1, 326: 1, 429: 1, 405: 1, 377: 1, 441: 1, 324: 1, 502: 1, 311: 1, 1521: 1, 258: 1, 373: 1, 424: 1, 450: 1, 612: 1, 893: 1, 679: 1, 538: 1, 547: 1, 765: 1, 844: 1, 431: 1, 491: 1, 567: 1, 617: 1, 274: 1, 457: 1, 621: 1, 43625: 1, 437: 1, 616: 1, 330: 1, 485: 1, 460: 1, 295: 1, 671: 1, 239: 1, 1021: 1, 296: 1, 631: 1, 381: 1, 630: 1, 413: 1, 613: 1, 1145: 1, 2430: 1, 1026: 1, 426: 1, 2422: 1, 1262: 1, 1033: 1, 2362: 1, 1004: 1, 511: 1, 497: 1, 367: 1, 532: 1, 379: 1, 315: 1, 307: 1, 452: 1, 880: 1, 732: 1, 555: 1, 484: 1, 813: 1, 1029: 1, 588: 1, 1341: 1, 1264: 1, 395: 1, 271: 1, 275: 1, 438: 1, 313: 1, 442: 1, 265: 1, 1874: 1, 516: 1, 879: 1, 833: 1, 1194: 1, 350: 1, 244: 1, 448: 1, 297: 1, 1008: 1, 246: 1, 279: 1, 468: 1, 803: 1, 375: 1, 731: 1, 1074: 1, 1056: 1, 1110: 1, 3227: 1, 333: 1, 479: 1, 1242: 1, 220: 1, 283: 1, 329: 1, 456: 1, 562: 1, 1003: 1, 1073: 1, 476: 1, 464: 1, 428: 1, 883: 1, 780: 1, 335: 1, 1307: 1, 1031: 1, 557: 1, 384: 1, 513: 1, 1217: 1, 443: 1, 398: 1, 1015: 1, 666: 1, 686: 1, 355: 1, 495: 1, 200: 1, 1409: 1, 1062: 1, 674: 1, 390: 1, 1288: 1, 585: 1, 700: 1, 1902: 1, 383: 1, 1077: 1, 454: 1, 378: 1, 1282: 1, 840: 1, 2127: 1, 2020: 1, 423: 1, 566: 1, 603: 1, 219: 1, 1256: 1, 2167: 1, 481: 1, 636: 1, 730: 1, 1102: 1, 814: 1, 584: 1, 382: 1, 430: 1, 638: 1, 809: 1, 334: 1, 569: 1, 1028: 1, 759: 1, 332: 1, 2062: 1, 353: 1, 534: 1, 385: 1, 314: 1, 930: 1, 1190: 1, 284: 1, 386: 1, 676: 1, 360: 1, 402: 1, 341: 1, 432: 1, 540: 1, 570: 1, 519: 1, 482: 1, 352: 1, 406: 1, 422: 1, 363: 1, 614: 1, 665: 1, 708: 1, 323: 1, 627: 1, 1464: 1, 253: 1, 403: 1})\n",
      "43625\n",
      "1833\n",
      "43625\n"
     ]
    }
   ],
   "source": [
    "from statistics import mean, median\n",
    "\n",
    "print(len(ascii_filtered_data[1][0]), len(ascii_filtered_data[1][1]), len(ascii_filtered_data[1][2]))\n",
    "print(Counter(len(i[0]) for i in ascii_filtered_data))\n",
    "print(Counter(len(i[1]) for i in ascii_filtered_data))\n",
    "print(Counter(len(i[2]) for i in ascii_filtered_data))\n",
    "\n",
    "print(max(len(i[0]) for i in ascii_filtered_data))\n",
    "print(max(len(i[1]) for i in ascii_filtered_data))\n",
    "print(max(len(i[2]) for i in ascii_filtered_data))"
   ]
  },
  {
   "cell_type": "code",
   "execution_count": 16,
   "metadata": {},
   "outputs": [
    {
     "name": "stdout",
     "output_type": "stream",
     "text": [
      "65690  is after num of lines reduced\n"
     ]
    }
   ],
   "source": [
    "lines_reduced_data = lines_reduced_filter(5, ascii_filtered_data)\n",
    "print (len(lines_reduced_data), ' is after num of lines reduced')"
   ]
  },
  {
   "cell_type": "code",
   "execution_count": 17,
   "metadata": {},
   "outputs": [
    {
     "name": "stdout",
     "output_type": "stream",
     "text": [
      "1 1 3\n",
      "Counter({1: 36532, 2: 14498, 3: 7145, 4: 4456, 5: 3059})\n",
      "Counter({1: 48880, 2: 10273, 3: 3186, 4: 1911, 5: 1440})\n",
      "Counter({1: 35908, 2: 14674, 3: 7461, 4: 4521, 5: 3126})\n",
      "5\n",
      "5\n",
      "5\n",
      "65690\n"
     ]
    }
   ],
   "source": [
    "ascii_filtered_data = lines_reduced_data\n",
    "print(len(ascii_filtered_data[1][0]), len(ascii_filtered_data[1][1]), len(ascii_filtered_data[1][2]))\n",
    "print(Counter(len(i[0]) for i in ascii_filtered_data))\n",
    "print(Counter(len(i[1]) for i in ascii_filtered_data))\n",
    "print(Counter(len(i[2]) for i in ascii_filtered_data))\n",
    "\n",
    "print(max(len(i[0]) for i in ascii_filtered_data))\n",
    "print(max(len(i[1]) for i in ascii_filtered_data))\n",
    "print(max(len(i[2]) for i in ascii_filtered_data))\n",
    "print(len(ascii_filtered_data))"
   ]
  },
  {
   "cell_type": "code",
   "execution_count": 18,
   "metadata": {},
   "outputs": [
    {
     "name": "stdout",
     "output_type": "stream",
     "text": [
      "54915  is after filtering for pandas fns\n"
     ]
    }
   ],
   "source": [
    "pandas_fn_filtered_data = pandas_fn_name_filter(ascii_filtered_data)\n",
    "print (len(pandas_fn_filtered_data), ' is after filtering for pandas fns')"
   ]
  },
  {
   "cell_type": "code",
   "execution_count": 19,
   "metadata": {},
   "outputs": [
    {
     "data": {
      "text/plain": [
       "(['import requests\\n'],\n",
       " [\"keep in mind that the json responses you will be getting from the api map almost one-to-one to python's dictionaries. unfortunately, they can be very nested, so make sure you read up on indexing dictionaries in the documentation provided above.\"],\n",
       " ['r= requests.get(\"https://www.quandl.com/api/v3/datasets/FSE/AFX_X/data.json\")\\n',\n",
       "  'json_data = r.json()\\n',\n",
       "  'json_data[\"dataset_data\"][\"data\"][0]'])"
      ]
     },
     "execution_count": 19,
     "metadata": {},
     "output_type": "execute_result"
    }
   ],
   "source": [
    "pandas_fn_filtered_data[0]"
   ]
  },
  {
   "cell_type": "code",
   "execution_count": 20,
   "metadata": {},
   "outputs": [
    {
     "name": "stdout",
     "output_type": "stream",
     "text": [
      "54915  is after chopping every line for target size (char)\n"
     ]
    }
   ],
   "source": [
    "chopped_data = chop_data(pandas_fn_filtered_data, 150)\n",
    "print (len(chopped_data), ' is after chopping every line for target size (char)')"
   ]
  },
  {
   "cell_type": "code",
   "execution_count": 22,
   "metadata": {},
   "outputs": [
    {
     "data": {
      "text/plain": [
       "([\"first_result.find('strong').text[0:-1]\"],\n",
       " ['### we do need to know that an escape sequence represents a single character'],\n",
       " [\"first_result.find('strong').text[0:-1] + ', 2017'  \"])"
      ]
     },
     "execution_count": 22,
     "metadata": {},
     "output_type": "execute_result"
    }
   ],
   "source": [
    "pandas_fn_filtered_data[1]"
   ]
  },
  {
   "cell_type": "code",
   "execution_count": 27,
   "metadata": {},
   "outputs": [],
   "source": [
    "new_data = []\n",
    "\n",
    "for i in range(len(pandas_fn_filtered_data)):\n",
    "    lis = []\n",
    "    for j in range(len(pandas_fn_filtered_data[i])):\n",
    "            lis.append(' '.join(pandas_fn_filtered_data[i][j]))\n",
    "        \n",
    "    new_data.append(' '.join(lis))"
   ]
  },
  {
   "cell_type": "code",
   "execution_count": 28,
   "metadata": {},
   "outputs": [
    {
     "data": {
      "text/plain": [
       "54915"
      ]
     },
     "execution_count": 28,
     "metadata": {},
     "output_type": "execute_result"
    }
   ],
   "source": [
    "len(new_data)"
   ]
  },
  {
   "cell_type": "code",
   "execution_count": 45,
   "metadata": {},
   "outputs": [
    {
     "data": {
      "text/plain": [
       "54848"
      ]
     },
     "execution_count": 45,
     "metadata": {},
     "output_type": "execute_result"
    }
   ],
   "source": [
    "len(set(new_data))"
   ]
  },
  {
   "cell_type": "code",
   "execution_count": 31,
   "metadata": {},
   "outputs": [
    {
     "name": "stdout",
     "output_type": "stream",
     "text": [
      "54848\n"
     ]
    }
   ],
   "source": [
    "print(len(set(new_data)))\n",
    "data = pandas_fn_filtered_data"
   ]
  },
  {
   "cell_type": "code",
   "execution_count": 32,
   "metadata": {},
   "outputs": [],
   "source": [
    "new_data1 = []\n",
    "new_data2 = []\n",
    "\n",
    "for i in range(len(data)):\n",
    "    lis1 = []\n",
    "    lis2 = []\n",
    "    for j in range(len(data[i])):\n",
    "        if j ==0 or j==2:\n",
    "            lis1.append(' '.join(data[i][j]))\n",
    "        if j==0 or j==1:\n",
    "            lis2.append(' '.join(data[i][j]))\n",
    "    new_data1.append(' '.join(lis1))\n",
    "    new_data2.append(' '.join(lis2))"
   ]
  },
  {
   "cell_type": "code",
   "execution_count": 33,
   "metadata": {},
   "outputs": [
    {
     "name": "stdout",
     "output_type": "stream",
     "text": [
      "54915\n",
      "54915\n"
     ]
    }
   ],
   "source": [
    "print(len(new_data1))\n",
    "print(len(new_data2))"
   ]
  },
  {
   "cell_type": "code",
   "execution_count": 34,
   "metadata": {},
   "outputs": [
    {
     "name": "stdout",
     "output_type": "stream",
     "text": [
      "54774\n",
      "51995\n"
     ]
    }
   ],
   "source": [
    "print(len(set(new_data1)))\n",
    "print(len(set(new_data2)))"
   ]
  },
  {
   "cell_type": "code",
   "execution_count": 35,
   "metadata": {},
   "outputs": [],
   "source": [
    "index1 = []\n",
    "new_data_set1 = list(set(new_data1))\n",
    "for i in range(len(new_data_set1)):\n",
    "    \n",
    "    index1.append(new_data1.index(new_data_set1[i]))"
   ]
  },
  {
   "cell_type": "code",
   "execution_count": 36,
   "metadata": {},
   "outputs": [],
   "source": [
    "index2 = []\n",
    "new_data_set2 = list(set(new_data2))\n",
    "for i in range(len(new_data_set2)):\n",
    "    \n",
    "    index2.append(new_data2.index(new_data_set2[i]))"
   ]
  },
  {
   "cell_type": "code",
   "execution_count": 37,
   "metadata": {},
   "outputs": [
    {
     "name": "stdout",
     "output_type": "stream",
     "text": [
      "51995 54774\n"
     ]
    }
   ],
   "source": [
    "print(len(index2),len(index1))"
   ]
  },
  {
   "cell_type": "code",
   "execution_count": 38,
   "metadata": {},
   "outputs": [],
   "source": [
    "index = list(set(index1).intersection(set(index2)))"
   ]
  },
  {
   "cell_type": "code",
   "execution_count": 39,
   "metadata": {},
   "outputs": [
    {
     "name": "stdout",
     "output_type": "stream",
     "text": [
      "54914 0\n"
     ]
    }
   ],
   "source": [
    "print(max(index),min(index))"
   ]
  },
  {
   "cell_type": "code",
   "execution_count": 40,
   "metadata": {},
   "outputs": [
    {
     "data": {
      "text/plain": [
       "51928"
      ]
     },
     "execution_count": 40,
     "metadata": {},
     "output_type": "execute_result"
    }
   ],
   "source": [
    "len(index)"
   ]
  },
  {
   "cell_type": "code",
   "execution_count": 41,
   "metadata": {},
   "outputs": [],
   "source": [
    "final_data = []\n",
    "\n",
    "for i in range(len(index)):\n",
    "        final_data.append(data[index[i]])"
   ]
  },
  {
   "cell_type": "code",
   "execution_count": null,
   "metadata": {},
   "outputs": [],
   "source": []
  },
  {
   "cell_type": "code",
   "execution_count": 42,
   "metadata": {},
   "outputs": [],
   "source": [
    "pandas_fn_filtered_data_code2code = [(i[0],i[2]) for i in final_data] #pandas_fn_filtered_data]\n",
    "pandas_fn_filtered_data_nl2code = [(i[1],i[2]) for i in final_data] #pandas_fn_filtered_data]"
   ]
  },
  {
   "cell_type": "code",
   "execution_count": 43,
   "metadata": {},
   "outputs": [],
   "source": [
    "pickle.dump(pandas_fn_filtered_data_code2code,open('/home/anushap/Code-Generation-Old/pandas_context_dataset_5years_no_dups_filtered_code2code_FINAL.pkl','wb'))"
   ]
  },
  {
   "cell_type": "code",
   "execution_count": 44,
   "metadata": {},
   "outputs": [],
   "source": [
    "pickle.dump(pandas_fn_filtered_data_nl2code,open('/home/anushap/Code-Generation-Old/pandas_context_dataset_5years_no_dups_filtered_nl2code_FINAL.pkl','wb'))"
   ]
  },
  {
   "cell_type": "code",
   "execution_count": null,
   "metadata": {},
   "outputs": [],
   "source": []
  }
 ],
 "metadata": {
  "kernelspec": {
   "display_name": "Python 3",
   "language": "python",
   "name": "python3"
  },
  "language_info": {
   "codemirror_mode": {
    "name": "ipython",
    "version": 3
   },
   "file_extension": ".py",
   "mimetype": "text/x-python",
   "name": "python",
   "nbconvert_exporter": "python",
   "pygments_lexer": "ipython3",
   "version": "3.6.5"
  }
 },
 "nbformat": 4,
 "nbformat_minor": 2
}
