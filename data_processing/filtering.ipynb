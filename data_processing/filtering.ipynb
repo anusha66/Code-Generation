{
 "cells": [
  {
   "cell_type": "code",
   "execution_count": 36,
   "metadata": {},
   "outputs": [],
   "source": [
    "import pdb\n",
    "import json\n",
    "import glob\n",
    "import pickle\n",
    "import tokenize\n",
    "from io import StringIO\n",
    "import numpy as np\n",
    "import sys\n",
    "from collections import Counter"
   ]
  },
  {
   "cell_type": "code",
   "execution_count": 37,
   "metadata": {},
   "outputs": [],
   "source": [
    "def load_data(file_path):\n",
    "    with open(file_path, 'rb') as fp:\n",
    "        data = pickle.load(fp)\n",
    "    return data"
   ]
  },
  {
   "cell_type": "markdown",
   "metadata": {},
   "source": [
    "# Filtering \\n s from code and intent"
   ]
  },
  {
   "cell_type": "code",
   "execution_count": 38,
   "metadata": {},
   "outputs": [],
   "source": [
    "def filter_newline(data, mode='nl', casefolding=True):\n",
    "    line_stripped_data = []\n",
    "    for item in data:\n",
    "        src_code, tgt, src_nl = [], [], []\n",
    "        \n",
    "        for line in item[0]:\n",
    "            if line == '\\n' or line.strip() == '':\n",
    "                continue\n",
    "            tgt.append(line)\n",
    "            \n",
    "        #if mode == 'nl':\n",
    "        for text in item[2]:\n",
    "            if text == '\\n' or text.strip() == '':\n",
    "                continue\n",
    "            if casefolding:\n",
    "                src_nl.append(text.lower())\n",
    "            else:\n",
    "                src_nl.append(text)\n",
    "                    \n",
    "        #if mode == 'code':\n",
    "        for text in item[1]:\n",
    "            if text == '\\n' or text.strip() == '':\n",
    "                continue\n",
    "            src_code.append(text)\n",
    "                \n",
    "        if len(src_code) and len(src_nl) and len(tgt):\n",
    "            line_stripped_data.append((src_code, src_nl, tgt))\n",
    "            \n",
    "    return line_stripped_data"
   ]
  },
  {
   "cell_type": "markdown",
   "metadata": {},
   "source": [
    "# Filtering non ascii characters from code and intent"
   ]
  },
  {
   "cell_type": "code",
   "execution_count": 39,
   "metadata": {},
   "outputs": [],
   "source": [
    "def is_ascii(s):\n",
    "    return all(ord(c) < 128 for c in s)"
   ]
  },
  {
   "cell_type": "code",
   "execution_count": 49,
   "metadata": {},
   "outputs": [],
   "source": [
    "def filter_ascii_data(data):\n",
    "    ascii_filtered_data = []\n",
    "    for item in data:\n",
    "        code_tgt, code_src, intent = [], [], []\n",
    "        for line in item[2]:\n",
    "            if is_ascii(line):\n",
    "                code_tgt.append(line)\n",
    "                \n",
    "        for line in item[0]:\n",
    "            if is_ascii(line):\n",
    "                code_src.append(line)\n",
    "    \n",
    "        for line in item[1]:\n",
    "            if is_ascii(line):\n",
    "                intent.append(line)\n",
    "            \n",
    "        if code_src == [] or intent == [] or code_tgt == []:\n",
    "            continue\n",
    "        ascii_filtered_data.append((code_src,intent,code_tgt))\n",
    "    return ascii_filtered_data"
   ]
  },
  {
   "cell_type": "markdown",
   "metadata": {},
   "source": [
    "# Filtering examples which are only 3 lines (both code and intent)"
   ]
  },
  {
   "cell_type": "code",
   "execution_count": 41,
   "metadata": {},
   "outputs": [],
   "source": [
    "def lines_reduced_filter(length, data):\n",
    "    lines_reduced_data = []\n",
    "    \n",
    "    for item in data:\n",
    "        if 0 < len(item[0]) <= length and 0 < len(item[1]) <= length and 0 < len(item[2]) <= length:\n",
    "            lines_reduced_data.append(item)\n",
    "            \n",
    "    return lines_reduced_data"
   ]
  },
  {
   "cell_type": "markdown",
   "metadata": {},
   "source": [
    "# Filtering based on Pandas functions"
   ]
  },
  {
   "cell_type": "code",
   "execution_count": 42,
   "metadata": {},
   "outputs": [],
   "source": [
    "with open('pickles/pandas_fns_names.pkl', 'rb') as fp:\n",
    "    pandas_fns = pickle.load(fp)"
   ]
  },
  {
   "cell_type": "code",
   "execution_count": 43,
   "metadata": {},
   "outputs": [],
   "source": [
    "def contains_pandas_api(codeline):\n",
    "    for func in pandas_fns:\n",
    "        if '.'+func in codeline:\n",
    "            return True\n",
    "    return False"
   ]
  },
  {
   "cell_type": "code",
   "execution_count": 44,
   "metadata": {},
   "outputs": [],
   "source": [
    "def pandas_fn_name_filter(data):\n",
    "    pandas_fn_filtered_data = []\n",
    "    \n",
    "    for item in data:\n",
    "        code = item[2]\n",
    "        if any(list(map(contains_pandas_api, code))):\n",
    "            pandas_fn_filtered_data.append(item)\n",
    "            \n",
    "    return pandas_fn_filtered_data"
   ]
  },
  {
   "cell_type": "markdown",
   "metadata": {},
   "source": [
    "# Chop every line to a maxium fixed length"
   ]
  },
  {
   "cell_type": "code",
   "execution_count": 45,
   "metadata": {},
   "outputs": [],
   "source": [
    "def chop_data(data, length):\n",
    "    chopped_data = []\n",
    "    \n",
    "    for item in data:\n",
    "        code_src,intent,code_tgt = item[0], item[1], item[2]\n",
    "        #src, tgt = item[0], item[1]\n",
    "        code_src_chopped,intent_chopped,code_tgt_chopped = [], [], []\n",
    "        #src_chopped, tgt_chopped = [], []\n",
    "        \n",
    "        for line in code_src:\n",
    "            code_src_chopped.append(line[:length])\n",
    "            \n",
    "        for line in intent:\n",
    "            intent_chopped.append(line[:length])\n",
    "            \n",
    "        for line in code_tgt:\n",
    "            code_tgt_chopped.append(line[:length])\n",
    "            \n",
    "        chopped_data.append((code_src_chopped,intent_chopped,code_tgt_chopped))\n",
    "    return chopped_data"
   ]
  },
  {
   "cell_type": "code",
   "execution_count": 46,
   "metadata": {},
   "outputs": [
    {
     "name": "stdout",
     "output_type": "stream",
     "text": [
      "126084  is original raw data\n"
     ]
    }
   ],
   "source": [
    "pandas_data = load_data('/home/anushap/Code-Generation-Old/pandas_context_dataset_5years_no_dups.pkl')\n",
    "print (len(pandas_data), ' is original raw data')\n",
    "line_stripped_data = filter_newline(pandas_data, mode='nl')"
   ]
  },
  {
   "cell_type": "code",
   "execution_count": 47,
   "metadata": {},
   "outputs": [
    {
     "data": {
      "text/plain": [
       "([\"API_KEY = 'hEerZVQ4FJm8y725RJsB'\"],\n",
       " [\"keep in mind that the json responses you will be getting from the api map almost one-to-one to python's dictionaries. unfortunately, they can be very nested, so make sure you read up on indexing dictionaries in the documentation provided above.\"],\n",
       " ['import requests\\n'])"
      ]
     },
     "execution_count": 47,
     "metadata": {},
     "output_type": "execute_result"
    }
   ],
   "source": [
    "line_stripped_data[0]"
   ]
  },
  {
   "cell_type": "code",
   "execution_count": 50,
   "metadata": {},
   "outputs": [
    {
     "name": "stdout",
     "output_type": "stream",
     "text": [
      "111728  is after ascii filtering\n"
     ]
    }
   ],
   "source": [
    "ascii_filtered_data = filter_ascii_data(line_stripped_data)\n",
    "print (len(ascii_filtered_data), ' is after ascii filtering')"
   ]
  },
  {
   "cell_type": "code",
   "execution_count": 51,
   "metadata": {},
   "outputs": [
    {
     "data": {
      "text/plain": [
       "(['import requests\\n'],\n",
       " [\"keep in mind that the json responses you will be getting from the api map almost one-to-one to python's dictionaries. unfortunately, they can be very nested, so make sure you read up on indexing dictionaries in the documentation provided above.\"],\n",
       " ['r= requests.get(\"https://www.quandl.com/api/v3/datasets/FSE/AFX_X/data.json\")\\n',\n",
       "  'json_data = r.json()\\n',\n",
       "  'json_data[\"dataset_data\"][\"data\"][0]'])"
      ]
     },
     "execution_count": 51,
     "metadata": {},
     "output_type": "execute_result"
    }
   ],
   "source": [
    "ascii_filtered_data[1]"
   ]
  },
  {
   "cell_type": "code",
   "execution_count": 31,
   "metadata": {},
   "outputs": [
    {
     "name": "stdout",
     "output_type": "stream",
     "text": [
      "17170  is after num of lines reduced\n"
     ]
    }
   ],
   "source": [
    "#lines_reduced_data = lines_reduced_filter(5, ascii_filtered_data)\n",
    "#print (len(lines_reduced_data), ' is after num of lines reduced')"
   ]
  },
  {
   "cell_type": "code",
   "execution_count": 52,
   "metadata": {},
   "outputs": [
    {
     "name": "stdout",
     "output_type": "stream",
     "text": [
      "95298  is after filtering for pandas fns\n"
     ]
    }
   ],
   "source": [
    "pandas_fn_filtered_data = pandas_fn_name_filter(ascii_filtered_data)\n",
    "print (len(pandas_fn_filtered_data), ' is after filtering for pandas fns')"
   ]
  },
  {
   "cell_type": "code",
   "execution_count": 53,
   "metadata": {},
   "outputs": [
    {
     "data": {
      "text/plain": [
       "(['import requests\\n'],\n",
       " [\"keep in mind that the json responses you will be getting from the api map almost one-to-one to python's dictionaries. unfortunately, they can be very nested, so make sure you read up on indexing dictionaries in the documentation provided above.\"],\n",
       " ['r= requests.get(\"https://www.quandl.com/api/v3/datasets/FSE/AFX_X/data.json\")\\n',\n",
       "  'json_data = r.json()\\n',\n",
       "  'json_data[\"dataset_data\"][\"data\"][0]'])"
      ]
     },
     "execution_count": 53,
     "metadata": {},
     "output_type": "execute_result"
    }
   ],
   "source": [
    "pandas_fn_filtered_data[0]"
   ]
  },
  {
   "cell_type": "code",
   "execution_count": null,
   "metadata": {},
   "outputs": [],
   "source": [
    "#chopped_data = chop_data(pandas_fn_filtered_data, 150)\n",
    "#print (len(chopped_data), ' is after chopping every line for target size (char)')"
   ]
  },
  {
   "cell_type": "code",
   "execution_count": 54,
   "metadata": {},
   "outputs": [],
   "source": [
    "pandas_fn_filtered_data_code2code = [(i[0],i[2]) for i in pandas_fn_filtered_data]\n",
    "pandas_fn_filtered_data_nl2code = [(i[1],i[2]) for i in pandas_fn_filtered_data]"
   ]
  },
  {
   "cell_type": "code",
   "execution_count": 55,
   "metadata": {},
   "outputs": [],
   "source": [
    "pickle.dump(pandas_fn_filtered_data_code2code,open('/home/anushap/Code-Generation-Old/pandas_context_dataset_5years_no_dups_filtered_code2code.pkl','wb'))"
   ]
  },
  {
   "cell_type": "code",
   "execution_count": 56,
   "metadata": {},
   "outputs": [],
   "source": [
    "pickle.dump(pandas_fn_filtered_data_nl2code,open('/home/anushap/Code-Generation-Old/pandas_context_dataset_5years_no_dups_filtered_nl2code.pkl','wb'))"
   ]
  },
  {
   "cell_type": "code",
   "execution_count": null,
   "metadata": {},
   "outputs": [],
   "source": []
  }
 ],
 "metadata": {
  "kernelspec": {
   "display_name": "Python 3",
   "language": "python",
   "name": "python3"
  },
  "language_info": {
   "codemirror_mode": {
    "name": "ipython",
    "version": 3
   },
   "file_extension": ".py",
   "mimetype": "text/x-python",
   "name": "python",
   "nbconvert_exporter": "python",
   "pygments_lexer": "ipython3",
   "version": "3.6.5"
  }
 },
 "nbformat": 4,
 "nbformat_minor": 2
}
