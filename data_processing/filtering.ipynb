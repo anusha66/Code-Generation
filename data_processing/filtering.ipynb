{
 "cells": [
  {
   "cell_type": "code",
   "execution_count": 1,
   "metadata": {},
   "outputs": [],
   "source": [
    "import pdb\n",
    "import json\n",
    "import glob\n",
    "import pickle\n",
    "import tokenize\n",
    "from io import StringIO\n",
    "import numpy as np\n",
    "import sys\n",
    "from collections import Counter"
   ]
  },
  {
   "cell_type": "code",
   "execution_count": 2,
   "metadata": {},
   "outputs": [],
   "source": [
    "def load_data(file_path):\n",
    "    with open(file_path, 'rb') as fp:\n",
    "        data = pickle.load(fp)\n",
    "    return data"
   ]
  },
  {
   "cell_type": "markdown",
   "metadata": {},
   "source": [
    "# Filtering \\n s from code and intent"
   ]
  },
  {
   "cell_type": "code",
   "execution_count": 3,
   "metadata": {},
   "outputs": [],
   "source": [
    "def filter_newline(data, mode='nl', casefolding=True):\n",
    "    line_stripped_data = []\n",
    "    for item in data:\n",
    "        src, tgt = [], []\n",
    "        \n",
    "        for line in item[0]:\n",
    "            if line == '\\n' or line.strip() == '':\n",
    "                continue\n",
    "            tgt.append(line)\n",
    "            \n",
    "        if mode == 'nl':\n",
    "            for text in item[2]:\n",
    "                if text == '\\n' or text.strip() == '':\n",
    "                    continue\n",
    "                if casefolding:\n",
    "                    src.append(text.lower())\n",
    "                else:\n",
    "                    src.append(text)\n",
    "                    \n",
    "        if mode == 'code':\n",
    "            for text in item[1]:\n",
    "                if text == '\\n' or text.strip() == '':\n",
    "                    continue\n",
    "                src.append(text)\n",
    "                \n",
    "        line_stripped_data.append((src, tgt))\n",
    "    return line_stripped_data"
   ]
  },
  {
   "cell_type": "markdown",
   "metadata": {},
   "source": [
    "# Filtering non ascii characters from code and intent"
   ]
  },
  {
   "cell_type": "code",
   "execution_count": 4,
   "metadata": {},
   "outputs": [],
   "source": [
    "def is_ascii(s):\n",
    "    return all(ord(c) < 128 for c in s)"
   ]
  },
  {
   "cell_type": "code",
   "execution_count": 5,
   "metadata": {},
   "outputs": [],
   "source": [
    "def filter_ascii_data(data):\n",
    "    ascii_filtered_data = []\n",
    "    for item in data:\n",
    "        code, intent = [], []\n",
    "        for line in item[0]:\n",
    "            if is_ascii(line):\n",
    "                code.append(line)\n",
    "    \n",
    "        for line in item[1]:\n",
    "            if is_ascii(line):\n",
    "                intent.append(line)\n",
    "            \n",
    "        if code == [] or intent == []:\n",
    "            continue\n",
    "        ascii_filtered_data.append((code, intent))\n",
    "    return ascii_filtered_data"
   ]
  },
  {
   "cell_type": "markdown",
   "metadata": {},
   "source": [
    "# Filtering examples which are only 3 lines (both code and intent)"
   ]
  },
  {
   "cell_type": "code",
   "execution_count": 6,
   "metadata": {},
   "outputs": [],
   "source": [
    "def lines_reduced_filter(length, data):\n",
    "    lines_reduced_data = []\n",
    "    \n",
    "    for item in data:\n",
    "        if 0 < len(item[0]) <= length and 0 < len(item[1]) <= 3:\n",
    "            lines_reduced_data.append(item)\n",
    "            \n",
    "    return lines_reduced_data"
   ]
  },
  {
   "cell_type": "markdown",
   "metadata": {},
   "source": [
    "# Filtering based on Pandas functions"
   ]
  },
  {
   "cell_type": "code",
   "execution_count": 7,
   "metadata": {},
   "outputs": [],
   "source": [
    "with open('pickles/pandas_fns_names.pkl', 'rb') as fp:\n",
    "    pandas_fns = pickle.load(fp)"
   ]
  },
  {
   "cell_type": "code",
   "execution_count": 8,
   "metadata": {},
   "outputs": [],
   "source": [
    "def contains_pandas_api(codeline):\n",
    "    for func in pandas_fns:\n",
    "        if '.'+func in codeline:\n",
    "            return True\n",
    "    return False"
   ]
  },
  {
   "cell_type": "code",
   "execution_count": 9,
   "metadata": {},
   "outputs": [],
   "source": [
    "def pandas_fn_name_filter(data):\n",
    "    pandas_fn_filtered_data = []\n",
    "    \n",
    "    for item in data:\n",
    "        code = item[0]\n",
    "        if any(list(map(contains_pandas_api, code))):\n",
    "            pandas_fn_filtered_data.append(item)\n",
    "            \n",
    "    return pandas_fn_filtered_data"
   ]
  },
  {
   "cell_type": "markdown",
   "metadata": {},
   "source": [
    "# Chop every line to a maxium fixed length"
   ]
  },
  {
   "cell_type": "code",
   "execution_count": 10,
   "metadata": {},
   "outputs": [],
   "source": [
    "def chop_data(data, length):\n",
    "    chopped_data = []\n",
    "    \n",
    "    for item in data:\n",
    "        src, tgt = item[0], item[1]\n",
    "        src_chopped, tgt_chopped = [], []\n",
    "        \n",
    "        for line in src:\n",
    "            src_chopped.append(line[:length])\n",
    "            \n",
    "        for line in tgt:\n",
    "            tgt_chopped.append(line[:length])\n",
    "            \n",
    "        chopped_data.append((src_chopped, tgt_chopped))\n",
    "    return chopped_data"
   ]
  },
  {
   "cell_type": "code",
   "execution_count": 11,
   "metadata": {},
   "outputs": [
    {
     "name": "stdout",
     "output_type": "stream",
     "text": [
      "33205  is original raw data\n"
     ]
    }
   ],
   "source": [
    "pandas_data = load_data('/home/anushap/Code-Generation-Old/pandas_context_dataset_5years_no_dups.pkl')\n",
    "print (len(pandas_data), ' is original raw data')\n",
    "line_stripped_data = filter_newline(pandas_data, mode='nl')"
   ]
  },
  {
   "cell_type": "code",
   "execution_count": 12,
   "metadata": {},
   "outputs": [
    {
     "name": "stdout",
     "output_type": "stream",
     "text": [
      "30035  is after ascii filtering\n"
     ]
    }
   ],
   "source": [
    "ascii_filtered_data = filter_ascii_data(line_stripped_data)\n",
    "print (len(ascii_filtered_data), ' is after ascii filtering')"
   ]
  },
  {
   "cell_type": "code",
   "execution_count": 13,
   "metadata": {},
   "outputs": [
    {
     "name": "stdout",
     "output_type": "stream",
     "text": [
      "17170  is after num of lines reduced\n"
     ]
    }
   ],
   "source": [
    "lines_reduced_data = lines_reduced_filter(3, ascii_filtered_data)\n",
    "print (len(lines_reduced_data), ' is after num of lines reduced')"
   ]
  },
  {
   "cell_type": "code",
   "execution_count": 14,
   "metadata": {},
   "outputs": [
    {
     "name": "stdout",
     "output_type": "stream",
     "text": [
      "6695  is after filtering for pandas fns\n"
     ]
    }
   ],
   "source": [
    "pandas_fn_filtered_data = pandas_fn_name_filter(lines_reduced_data)\n",
    "print (len(pandas_fn_filtered_data), ' is after filtering for pandas fns')"
   ]
  },
  {
   "cell_type": "code",
   "execution_count": null,
   "metadata": {},
   "outputs": [],
   "source": [
    "chopped_data = chop_data(pandas_fn_filtered_data, 150)\n",
    "print (len(chopped_data), ' is after chopping every line for target size (char)')"
   ]
  },
  {
   "cell_type": "code",
   "execution_count": null,
   "metadata": {},
   "outputs": [],
   "source": [
    "with open('pickles/')"
   ]
  }
 ],
 "metadata": {
  "kernelspec": {
   "display_name": "Python 3",
   "language": "python",
   "name": "python3"
  },
  "language_info": {
   "codemirror_mode": {
    "name": "ipython",
    "version": 3
   },
   "file_extension": ".py",
   "mimetype": "text/x-python",
   "name": "python",
   "nbconvert_exporter": "python",
   "pygments_lexer": "ipython3",
   "version": "3.6.5"
  }
 },
 "nbformat": 4,
 "nbformat_minor": 2
}
